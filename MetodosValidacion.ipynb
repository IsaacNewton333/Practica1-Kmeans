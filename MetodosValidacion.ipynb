{
 "cells": [
  {
   "cell_type": "markdown",
   "metadata": {},
   "source": [
    "Importacion de modulos y carga de los conjuntos de datos."
   ]
  },
  {
   "cell_type": "code",
   "execution_count": 2,
   "metadata": {},
   "outputs": [],
   "source": [
    "import pandas as pd\n",
    "from sklearn.model_selection import train_test_split, KFold, LeaveOneOut\n",
    "from sklearn.datasets import load_iris, load_wine\n",
    "from sklearn.tree import DecisionTreeClassifier\n",
    "from sklearn.metrics import accuracy_score\n",
    "\n",
    "# Cargar conjuntos de datos del UCI ML Repository\n",
    "iris = load_iris()\n",
    "wine = load_wine()\n",
    "\n",
    "# Convertir a DataFrame para una manipulación más fácil\n",
    "iris_df = pd.DataFrame(data=iris.data, columns=iris.feature_names)\n",
    "iris_df['target'] = iris.target\n",
    "\n",
    "wine_df = pd.DataFrame(data=wine.data, columns=wine.feature_names)\n",
    "wine_df['target'] = wine.target"
   ]
  },
  {
   "cell_type": "markdown",
   "metadata": {},
   "source": [
    "Creacion de las funciones para los metodos de validacion."
   ]
  },
  {
   "cell_type": "code",
   "execution_count": 3,
   "metadata": {},
   "outputs": [],
   "source": [
    "# Función para realizar validación Hold-out asegurando conjuntos disjuntos\n",
    "def hold_out_validation(df, test_size):\n",
    "    X = df.drop(columns=['target'])\n",
    "    y = df['target']\n",
    "    X_train, X_test, y_train, y_test = train_test_split(X, y, test_size=test_size, random_state=42)\n",
    "    model = DecisionTreeClassifier()\n",
    "    model.fit(X_train, y_train)\n",
    "    y_pred = model.predict(X_test)\n",
    "    return accuracy_score(y_test, y_pred)"
   ]
  },
  {
   "cell_type": "code",
   "execution_count": 4,
   "metadata": {},
   "outputs": [],
   "source": [
    "# Función para realizar K-Fold Cross Validation asegurando conjuntos disjuntos\n",
    "def k_fold_cross_validation(df, k):\n",
    "    X = df.drop(columns=['target'])\n",
    "    y = df['target']\n",
    "    kf = KFold(n_splits=k)\n",
    "    accuracies = []\n",
    "    for train_index, test_index in kf.split(X):\n",
    "        X_train, X_test = X.iloc[train_index], X.iloc[test_index]\n",
    "        y_train, y_test = y.iloc[train_index], y.iloc[test_index]\n",
    "        model = DecisionTreeClassifier()\n",
    "        model.fit(X_train, y_train)\n",
    "        y_pred = model.predict(X_test)\n",
    "        accuracies.append(accuracy_score(y_test, y_pred))\n",
    "    return sum(accuracies) / len(accuracies)"
   ]
  },
  {
   "cell_type": "code",
   "execution_count": 5,
   "metadata": {},
   "outputs": [],
   "source": [
    "# Función para realizar Leave-One-Out Cross Validation asegurando conjuntos disjuntos\n",
    "def leave_one_out_validation(df):\n",
    "    X = df.drop(columns=['target'])\n",
    "    y = df['target']\n",
    "    loo = LeaveOneOut()\n",
    "    accuracies = []\n",
    "    for train_index, test_index in loo.split(X):\n",
    "        X_train, X_test = X.iloc[train_index], X.iloc[test_index]\n",
    "        y_train, y_test = y.iloc[train_index], y.iloc[test_index]\n",
    "        model = DecisionTreeClassifier()\n",
    "        model.fit(X_train, y_train)\n",
    "        y_pred = model.predict(X_test)\n",
    "        accuracies.append(accuracy_score(y_test, y_pred))\n",
    "    return sum(accuracies) / len(accuracies)"
   ]
  },
  {
   "cell_type": "markdown",
   "metadata": {},
   "source": [
    "Prueba de los metodos de validacion."
   ]
  },
  {
   "cell_type": "code",
   "execution_count": 6,
   "metadata": {},
   "outputs": [
    {
     "name": "stdout",
     "output_type": "stream",
     "text": [
      "Hold-out Validation (Iris): 1.0\n",
      "K-Fold Cross Validation (Iris, k=5): 0.9133333333333333\n",
      "Leave-One-Out Validation (Iris): 0.9533333333333334\n"
     ]
    }
   ],
   "source": [
    "# Iris\n",
    "hold_out_acc_iris = hold_out_validation(iris_df, 0.3)\n",
    "k_fold_acc_iris = k_fold_cross_validation(iris_df, 5)\n",
    "loo_acc_iris = leave_one_out_validation(iris_df)\n",
    "\n",
    "print(\"Hold-out Validation (Iris):\", hold_out_acc_iris)\n",
    "print(\"K-Fold Cross Validation (Iris, k=5):\", k_fold_acc_iris)\n",
    "print(\"Leave-One-Out Validation (Iris):\", loo_acc_iris)"
   ]
  },
  {
   "cell_type": "code",
   "execution_count": 7,
   "metadata": {},
   "outputs": [
    {
     "name": "stdout",
     "output_type": "stream",
     "text": [
      "Hold-out Validation (Wine): 0.9629629629629629\n",
      "K-Fold Cross Validation (Wine, k=5): 0.8425396825396826\n",
      "Leave-One-Out Validation (Wine): 0.8820224719101124\n"
     ]
    }
   ],
   "source": [
    "# Wine\n",
    "hold_out_acc_wine = hold_out_validation(wine_df, 0.3)\n",
    "k_fold_acc_wine = k_fold_cross_validation(wine_df, 5)\n",
    "loo_acc_wine = leave_one_out_validation(wine_df)\n",
    "\n",
    "print(\"Hold-out Validation (Wine):\", hold_out_acc_wine)\n",
    "print(\"K-Fold Cross Validation (Wine, k=5):\", k_fold_acc_wine)\n",
    "print(\"Leave-One-Out Validation (Wine):\", loo_acc_wine)"
   ]
  }
 ],
 "metadata": {
  "kernelspec": {
   "display_name": "Python 3",
   "language": "python",
   "name": "python3"
  },
  "language_info": {
   "codemirror_mode": {
    "name": "ipython",
    "version": 3
   },
   "file_extension": ".py",
   "mimetype": "text/x-python",
   "name": "python",
   "nbconvert_exporter": "python",
   "pygments_lexer": "ipython3",
   "version": "3.9.6"
  }
 },
 "nbformat": 4,
 "nbformat_minor": 2
}
