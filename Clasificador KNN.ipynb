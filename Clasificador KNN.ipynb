{
 "cells": [
  {
   "cell_type": "markdown",
   "metadata": {},
   "source": [
    "## Clasificador de Datos KNN."
   ]
  },
  {
   "cell_type": "markdown",
   "metadata": {},
   "source": [
    "### Carga de modulos y bases de datos para la verificacion."
   ]
  },
  {
   "cell_type": "code",
   "execution_count": 1,
   "metadata": {},
   "outputs": [],
   "source": [
    "import numpy as np\n",
    "from sklearn.datasets import load_iris, load_digits, load_wine\n",
    "from sklearn.model_selection import train_test_split, StratifiedKFold, LeaveOneOut\n",
    "from sklearn.neighbors import KNeighborsClassifier\n",
    "from sklearn.metrics import accuracy_score, confusion_matrix"
   ]
  },
  {
   "cell_type": "markdown",
   "metadata": {},
   "source": [
    "### Para este ejemplo, he elegido ( k = 3 ) porque es un valor comúnmente utilizado que suele ofrecer un buen equilibrio entre sesgo y varianza. Sin embargo, en una implementación real, se recomienda probar varios valores de ( k ) y elegir el que ofrezca el mejor rendimiento en el conjunto de validación."
   ]
  },
  {
   "cell_type": "code",
   "execution_count": 2,
   "metadata": {},
   "outputs": [],
   "source": [
    "# Elegir el mejor valor de k (para simplicidad elegimos k=3 aquí)\n",
    "k = 3"
   ]
  },
  {
   "cell_type": "markdown",
   "metadata": {},
   "source": [
    "### Funciones de evaluacion de bases de datos."
   ]
  },
  {
   "cell_type": "code",
   "execution_count": 3,
   "metadata": {},
   "outputs": [],
   "source": [
    "# Función para evaluar KNN con diferentes métodos de validación\n",
    "def evaluate_knn(X, y, k):\n",
    "    results = {}\n",
    "\n",
    "    # Hold-Out 70/30 estratificado\n",
    "    X_train, X_test, y_train, y_test = train_test_split(X, y, test_size=0.3, stratify=y)\n",
    "    knn = KNeighborsClassifier(n_neighbors=k)\n",
    "    knn.fit(X_train, y_train)\n",
    "    y_pred = knn.predict(X_test)\n",
    "    results['Hold-Out 70/30'] = {\n",
    "        'Accuracy': accuracy_score(y_test, y_pred),\n",
    "        'Confusion Matrix': confusion_matrix(y_test, y_pred)\n",
    "    }\n",
    "\n",
    "    # 10-Fold Cross-Validation estratificado\n",
    "    skf = StratifiedKFold(n_splits=10)\n",
    "    accuracies = []\n",
    "    conf_matrices = []\n",
    "    for train_index, test_index in skf.split(X, y):\n",
    "        X_train, X_test = X[train_index], X[test_index]\n",
    "        y_train, y_test = y[train_index], y[test_index]\n",
    "        knn.fit(X_train, y_train)\n",
    "        y_pred = knn.predict(X_test)\n",
    "        accuracies.append(accuracy_score(y_test, y_pred))\n",
    "        conf_matrices.append(confusion_matrix(y_test, y_pred))\n",
    "    results['10-Fold Cross-Validation'] = {\n",
    "        'Accuracy': np.mean(accuracies),\n",
    "        'Confusion Matrix': np.sum(conf_matrices, axis=0)\n",
    "    }\n",
    "\n",
    "    # Leave-One-Out\n",
    "    loo = LeaveOneOut()\n",
    "    accuracies = []\n",
    "    conf_matrices = []\n",
    "    for train_index, test_index in loo.split(X):\n",
    "        X_train, X_test = X[train_index], X[test_index]\n",
    "        y_train, y_test = y[train_index], y[test_index]\n",
    "        knn.fit(X_train, y_train)\n",
    "        y_pred = knn.predict(X_test)\n",
    "        accuracies.append(accuracy_score(y_test, y_pred))\n",
    "        conf_matrices.append(confusion_matrix(y_test, y_pred))\n",
    "    results['Leave-One-Out'] = {\n",
    "        'Accuracy': np.mean(accuracies),\n",
    "        'Confusion Matrix': np.sum(conf_matrices, axis=0)\n",
    "    }\n",
    "\n",
    "    return results"
   ]
  },
  {
   "cell_type": "markdown",
   "metadata": {},
   "source": [
    "### Dataset de Iris"
   ]
  },
  {
   "cell_type": "code",
   "execution_count": null,
   "metadata": {},
   "outputs": [],
   "source": [
    "# Cargar el dataset de iris y evaluarlo\n",
    "data = load_iris()\n",
    "X = data.data\n",
    "y = data.target\n",
    "results = evaluate_knn(X, y, k)"
   ]
  },
  {
   "cell_type": "markdown",
   "metadata": {},
   "source": [
    "### Conjunto de datos de dígitos de MNIST"
   ]
  },
  {
   "cell_type": "code",
   "execution_count": null,
   "metadata": {},
   "outputs": [],
   "source": [
    "# Evaluar KNN para el conjunto de datos de dígitos de MNIST\n",
    "digits_data = load_digits()\n",
    "X_digits = digits_data.data\n",
    "y_digits = digits_data.target\n",
    "results_digits = evaluate_knn(X_digits, y_digits, k)"
   ]
  },
  {
   "cell_type": "markdown",
   "metadata": {},
   "source": [
    "### Conjunto de vinos"
   ]
  },
  {
   "cell_type": "code",
   "execution_count": null,
   "metadata": {},
   "outputs": [],
   "source": [
    "# Evaluar KNN para el conjunto de datos de vinos\n",
    "wine_data = load_wine()\n",
    "X_wine = wine_data.data\n",
    "y_wine = wine_data.target\n",
    "results_wine = evaluate_knn(X_wine, y_wine, k)"
   ]
  },
  {
   "cell_type": "markdown",
   "metadata": {},
   "source": [
    "### Imprimir los resultados de Iris"
   ]
  },
  {
   "cell_type": "code",
   "execution_count": 7,
   "metadata": {},
   "outputs": [
    {
     "name": "stdout",
     "output_type": "stream",
     "text": [
      "\n",
      "\n",
      "\t*** Resultados de la base de datos de Iris: \n",
      "\n",
      "\n",
      "Method: Hold-Out 70/30\n",
      "Accuracy: 0.9333333333333333\n",
      "Confusion Matrix:\n",
      "[[15  0  0]\n",
      " [ 0 13  2]\n",
      " [ 0  1 14]]\n",
      "\n",
      "Method: 10-Fold Cross-Validation\n",
      "Accuracy: 0.9666666666666666\n",
      "Confusion Matrix:\n",
      "[[50  0  0]\n",
      " [ 0 47  3]\n",
      " [ 0  2 48]]\n",
      "\n",
      "Method: Leave-One-Out\n",
      "Accuracy: 0.96\n",
      "Confusion Matrix:\n",
      "[[144 147]\n",
      " [147 144]]\n",
      "\n"
     ]
    }
   ],
   "source": [
    "print(\"\\n\\n\\t*** Resultados de la base de datos de Iris: \\n\\n\")\n",
    "for method, metrics in results.items():\n",
    "    print(f\"Method: {method}\")\n",
    "    print(f\"Accuracy: {metrics['Accuracy']}\")\n",
    "    print(f\"Confusion Matrix:\\n{metrics['Confusion Matrix']}\\n\")"
   ]
  },
  {
   "cell_type": "markdown",
   "metadata": {},
   "source": [
    "### Imprimir los resultados para el conjunto de datos de dígitos de MNIST"
   ]
  },
  {
   "cell_type": "code",
   "execution_count": 8,
   "metadata": {},
   "outputs": [
    {
     "name": "stdout",
     "output_type": "stream",
     "text": [
      "\n",
      "\n",
      "\t*** Resultados de la base de datos de dígitos de MNIST: \n",
      "\n",
      "\n",
      "Resultados para el conjunto de datos de dígitos de MNIST:\n",
      "Method: Hold-Out 70/30\n",
      "Accuracy: 0.9796296296296296\n",
      "Confusion Matrix:\n",
      "[[54  0  0  0  0  0  0  0  0  0]\n",
      " [ 0 55  0  0  0  0  0  0  0  0]\n",
      " [ 0  0 53  0  0  0  0  0  0  0]\n",
      " [ 0  0  0 54  0  0  0  1  0  0]\n",
      " [ 0  0  0  0 54  0  0  0  0  0]\n",
      " [ 0  0  0  0  0 53  1  0  0  1]\n",
      " [ 0  0  0  0  0  0 54  0  0  0]\n",
      " [ 0  0  0  0  0  0  0 53  0  1]\n",
      " [ 0  2  0  1  0  0  0  0 48  1]\n",
      " [ 0  0  0  3  0  0  0  0  0 51]]\n",
      "\n",
      "Method: 10-Fold Cross-Validation\n",
      "Accuracy: 0.9766325263811299\n",
      "Confusion Matrix:\n",
      "[[178   0   0   0   0   0   0   0   0   0]\n",
      " [  0 180   0   0   0   1   1   0   0   0]\n",
      " [  0   4 171   1   0   0   0   0   1   0]\n",
      " [  0   0   1 176   0   1   0   2   2   1]\n",
      " [  0   1   0   0 178   0   1   0   0   1]\n",
      " [  0   0   0   0   0 178   1   0   0   3]\n",
      " [  1   1   0   0   0   0 179   0   0   0]\n",
      " [  0   0   0   0   0   0   0 178   0   1]\n",
      " [  0   6   0   2   0   0   0   0 166   0]\n",
      " [  0   1   0   4   1   1   0   0   2 171]]\n",
      "\n",
      "Method: Leave-One-Out\n",
      "Accuracy: 0.9888703394546466\n",
      "Confusion Matrix:\n",
      "[[1777 1784]\n",
      " [1790 1777]]\n",
      "\n"
     ]
    }
   ],
   "source": [
    "print(\"\\n\\n\\t*** Resultados de la base de datos de dígitos de MNIST: \\n\\n\")\n",
    "print(\"Resultados para el conjunto de datos de dígitos de MNIST:\")\n",
    "for method, metrics in results_digits.items():\n",
    "    print(f\"Method: {method}\")\n",
    "    print(f\"Accuracy: {metrics['Accuracy']}\")\n",
    "    print(f\"Confusion Matrix:\\n{metrics['Confusion Matrix']}\\n\")"
   ]
  },
  {
   "cell_type": "markdown",
   "metadata": {},
   "source": [
    "### Imprimir los resultados para el conjunto de datos de vinos"
   ]
  },
  {
   "cell_type": "code",
   "execution_count": 9,
   "metadata": {},
   "outputs": [
    {
     "name": "stdout",
     "output_type": "stream",
     "text": [
      "\n",
      "\n",
      "\t***Resultados para el conjunto de datos de vinos: \n",
      "\n",
      "\n",
      "Method: Hold-Out 70/30\n",
      "Accuracy: 0.6851851851851852\n",
      "Confusion Matrix:\n",
      "[[17  0  1]\n",
      " [ 3 14  4]\n",
      " [ 5  4  6]]\n",
      "\n",
      "Method: 10-Fold Cross-Validation\n",
      "Accuracy: 0.7209150326797384\n",
      "Confusion Matrix:\n",
      "[[51  3  5]\n",
      " [ 7 48 16]\n",
      " [ 5 14 29]]\n",
      "\n",
      "Method: Leave-One-Out\n",
      "Accuracy: 0.7247191011235955\n",
      "Confusion Matrix:\n",
      "[[129 152]\n",
      " [155 129]]\n",
      "\n"
     ]
    }
   ],
   "source": [
    "print(\"\\n\\n\\t***Resultados para el conjunto de datos de vinos: \\n\\n\")\n",
    "for method, metrics in results_wine.items():\n",
    "    print(f\"Method: {method}\")\n",
    "    print(f\"Accuracy: {metrics['Accuracy']}\")\n",
    "    print(f\"Confusion Matrix:\\n{metrics['Confusion Matrix']}\\n\")"
   ]
  }
 ],
 "metadata": {
  "kernelspec": {
   "display_name": "Python 3",
   "language": "python",
   "name": "python3"
  },
  "language_info": {
   "codemirror_mode": {
    "name": "ipython",
    "version": 3
   },
   "file_extension": ".py",
   "mimetype": "text/x-python",
   "name": "python",
   "nbconvert_exporter": "python",
   "pygments_lexer": "ipython3",
   "version": "3.9.6"
  }
 },
 "nbformat": 4,
 "nbformat_minor": 2
}
